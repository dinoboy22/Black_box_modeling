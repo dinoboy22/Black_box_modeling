{
 "cells": [
  {
   "cell_type": "code",
   "execution_count": 1,
   "id": "93b20945-b70b-4faa-8f1b-6c1bb31fa178",
   "metadata": {},
   "outputs": [],
   "source": [
    "#!/usr/bin/env python\n",
    "# coding: utf-8\n",
    "\n",
    "import os\n",
    "import sys\n",
    "sys.path.append('./')\n",
    "sys.path.append('../')\n",
    "\n",
    "import lightning.pytorch as pl\n",
    "from lightning.pytorch.loggers import TensorBoardLogger\n",
    "from lightning.pytorch.callbacks import EarlyStopping\n",
    "\n",
    "import config\n",
    "from libs.data_loader import BBDataModule\n",
    "from libs.nn import BaselineModel\n",
    "\n",
    "# import numpy as np\n",
    "# import pandas as pd\n",
    "# from torch.utils.data import Dataset, DataLoader, random_split, default_collate"
   ]
  },
  {
   "cell_type": "code",
   "execution_count": 2,
   "id": "490f570c-4358-47ed-9a2a-57d298e9fdac",
   "metadata": {},
   "outputs": [],
   "source": [
    "# import freeze_support\n",
    "# from multiprocessing import freeze_support\n",
    "# freeze_support()\n",
    "\n",
    "cfg = config.BASELINE_MODEL\n",
    "\n",
    "ROOT_DIR = '.' if os.path.exists('config') else '..' \n",
    "csv_file = os.path.join(ROOT_DIR, 'dataset', cfg['train_csv_file'])\n",
    "# csv_file = os.path.join(ROOT_DIR, 'dataset', 'train.csv')\n",
    "\n",
    "# model = BaselineModel(\n",
    "#     num_input=cfg['num_input'], \n",
    "#     num_output=cfg['num_output'], \n",
    "#     layers=cfg['layers'],\n",
    "#     dropout=cfg['dropout']\n",
    "# ) "
   ]
  },
  {
   "cell_type": "code",
   "execution_count": 3,
   "id": "d63ac72a-d10c-4faa-900e-b182585290f2",
   "metadata": {},
   "outputs": [],
   "source": [
    "data_module = BBDataModule(\n",
    "    csv_file=csv_file, \n",
    "    batch_size=cfg['batch_size'], \n",
    "    num_workers=cfg['num_workers']\n",
    ")"
   ]
  },
  {
   "cell_type": "code",
   "execution_count": 4,
   "id": "3fe47758-5557-4043-aa9e-04c0cf809e3f",
   "metadata": {},
   "outputs": [
    {
     "name": "stderr",
     "output_type": "stream",
     "text": [
      "Using bfloat16 Automatic Mixed Precision (AMP)\n",
      "GPU available: True (mps), used: True\n",
      "TPU available: False, using: 0 TPU cores\n",
      "HPU available: False, using: 0 HPUs\n"
     ]
    }
   ],
   "source": [
    "log_dir = os.path.join(ROOT_DIR, 'tb_logs')\n",
    "logger = TensorBoardLogger(log_dir, name=\"baseline\")\n",
    "\n",
    "trainer = pl.Trainer(\n",
    "    # limit_train_batches=0.1, # use only 10% of the training data\n",
    "    min_epochs=1,\n",
    "    max_epochs=cfg['num_epochs'],\n",
    "    precision='bf16-mixed',\n",
    "    callbacks=[EarlyStopping(monitor=\"val_loss\")],\n",
    "    logger=logger,\n",
    "    # profiler=profiler,\n",
    "    # profiler='simple'\n",
    ")"
   ]
  },
  {
   "cell_type": "code",
   "execution_count": 5,
   "id": "37873587-9813-482c-8dc2-abd47c1545de",
   "metadata": {},
   "outputs": [
    {
     "name": "stdout",
     "output_type": "stream",
     "text": [
      "Validation DataLoader 0:  19%|████████████████████████▎                                                                                                      | 48/251 [00:00<00:00, 238.14it/s]"
     ]
    },
    {
     "name": "stderr",
     "output_type": "stream",
     "text": [
      "/Users/hl1sqi/Library/Caches/pypoetry/virtualenvs/black-box-modeling-bNd3en66-py3.10/lib/python3.10/site-packages/torch/amp/autocast_mode.py:250: UserWarning: User provided device_type of 'cuda', but CUDA is not available. Disabling\n",
      "  warnings.warn(\n"
     ]
    },
    {
     "name": "stdout",
     "output_type": "stream",
     "text": [
      "Validation DataLoader 0: 100%|██████████████████████████████████████████████████████████████████████████████████████████████████████████████████████████████| 251/251 [00:00<00:00, 280.21it/s]\n",
      "────────────────────────────────────────────────────────────────────────────────────────────────────────────────────────\n",
      "     Validate metric           DataLoader 0\n",
      "────────────────────────────────────────────────────────────────────────────────────────────────────────────────────────\n",
      "        val_loss            0.3589252829551697\n",
      "        val_rmse            0.5882092714309692\n",
      "────────────────────────────────────────────────────────────────────────────────────────────────────────────────────────\n",
      "Testing DataLoader 0:  24%|███████████████████████████████                                                                                                   | 60/251 [00:00<00:00, 298.11it/s]"
     ]
    },
    {
     "name": "stderr",
     "output_type": "stream",
     "text": [
      "/Users/hl1sqi/Library/Caches/pypoetry/virtualenvs/black-box-modeling-bNd3en66-py3.10/lib/python3.10/site-packages/torch/amp/autocast_mode.py:250: UserWarning: User provided device_type of 'cuda', but CUDA is not available. Disabling\n",
      "  warnings.warn(\n"
     ]
    },
    {
     "name": "stdout",
     "output_type": "stream",
     "text": [
      "Testing DataLoader 0: 100%|█████████████████████████████████████████████████████████████████████████████████████████████████████████████████████████████████| 251/251 [00:00<00:00, 301.53it/s]\n",
      "────────────────────────────────────────────────────────────────────────────────────────────────────────────────────────\n",
      "       Test metric             DataLoader 0\n",
      "────────────────────────────────────────────────────────────────────────────────────────────────────────────────────────\n",
      "        test_loss           0.44477736949920654\n",
      "        test_rmse           0.6107111573219299\n",
      "────────────────────────────────────────────────────────────────────────────────────────────────────────────────────────\n"
     ]
    },
    {
     "data": {
      "text/plain": [
       "[{'test_loss': 0.44477736949920654, 'test_rmse': 0.6107111573219299}]"
      ]
     },
     "execution_count": 5,
     "metadata": {},
     "output_type": "execute_result"
    }
   ],
   "source": [
    "# load the model\n",
    "checkpoint = os.path.join(ROOT_DIR, 'models', 'baseline_model.ckpt')\n",
    "model = BaselineModel.load_from_checkpoint(\n",
    "    checkpoint,\n",
    "    num_input=cfg['num_input'],\n",
    "    num_output=cfg['num_output'],\n",
    "    layers=cfg['layers'],\n",
    "    dropout=cfg['dropout']\n",
    ")"
   ]
  },
  {
   "cell_type": "code",
   "execution_count": null,
   "id": "ad21365f-7d95-4ab6-af4a-0060c004d18f",
   "metadata": {},
   "outputs": [
    {
     "name": "stdout",
     "output_type": "stream",
     "text": [
      "Validation DataLoader 0:  26%|████████████████████████████████▉                                                                                              | 65/251 [00:00<00:00, 322.20it/s]"
     ]
    },
    {
     "name": "stderr",
     "output_type": "stream",
     "text": [
      "/Users/hl1sqi/Library/Caches/pypoetry/virtualenvs/black-box-modeling-bNd3en66-py3.10/lib/python3.10/site-packages/torch/amp/autocast_mode.py:250: UserWarning: User provided device_type of 'cuda', but CUDA is not available. Disabling\n",
      "  warnings.warn(\n"
     ]
    },
    {
     "name": "stdout",
     "output_type": "stream",
     "text": [
      "Validation DataLoader 0: 100%|██████████████████████████████████████████████████████████████████████████████████████████████████████████████████████████████| 251/251 [00:00<00:00, 324.12it/s]\n",
      "────────────────────────────────────────────────────────────────────────────────────────────────────────────────────────\n",
      "     Validate metric           DataLoader 0\n",
      "────────────────────────────────────────────────────────────────────────────────────────────────────────────────────────\n",
      "        val_loss            0.42652177810668945\n",
      "        val_rmse            0.5967417359352112\n",
      "────────────────────────────────────────────────────────────────────────────────────────────────────────────────────────\n",
      "Testing DataLoader 0:  23%|██████████████████████████████                                                                                                    | 58/251 [00:00<00:00, 287.16it/s]"
     ]
    },
    {
     "name": "stderr",
     "output_type": "stream",
     "text": [
      "/Users/hl1sqi/Library/Caches/pypoetry/virtualenvs/black-box-modeling-bNd3en66-py3.10/lib/python3.10/site-packages/torch/amp/autocast_mode.py:250: UserWarning: User provided device_type of 'cuda', but CUDA is not available. Disabling\n",
      "  warnings.warn(\n"
     ]
    },
    {
     "name": "stdout",
     "output_type": "stream",
     "text": [
      "Testing DataLoader 0: 100%|█████████████████████████████████████████████████████████████████████████████████████████████████████████████████████████████████| 251/251 [00:00<00:00, 289.94it/s]\n",
      "────────────────────────────────────────────────────────────────────────────────────────────────────────────────────────\n",
      "       Test metric             DataLoader 0\n",
      "────────────────────────────────────────────────────────────────────────────────────────────────────────────────────────\n",
      "        test_loss           0.36157718300819397\n",
      "        test_rmse           0.5910803079605103\n",
      "────────────────────────────────────────────────────────────────────────────────────────────────────────────────────────\n"
     ]
    }
   ],
   "source": [
    "trainer.validate(model, data_module)\n",
    "trainer.test(model, data_module)"
   ]
  }
 ],
 "metadata": {
  "kernelspec": {
   "display_name": "Python 3 (ipykernel)",
   "language": "python",
   "name": "python3"
  },
  "language_info": {
   "codemirror_mode": {
    "name": "ipython",
    "version": 3
   },
   "file_extension": ".py",
   "mimetype": "text/x-python",
   "name": "python",
   "nbconvert_exporter": "python",
   "pygments_lexer": "ipython3",
   "version": "3.10.10"
  }
 },
 "nbformat": 4,
 "nbformat_minor": 5
}
