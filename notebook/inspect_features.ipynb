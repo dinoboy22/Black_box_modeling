{
 "cells": [
  {
   "cell_type": "code",
   "execution_count": null,
   "id": "95f7bcbb-0746-4fe9-96eb-f4de53ff420b",
   "metadata": {},
   "outputs": [],
   "source": [
    "#!/usr/bin/env python\n",
    "# coding: utf-8\n",
    "\n",
    "import os\n",
    "import sys\n",
    "sys.path.append('./')\n",
    "sys.path.append('../')\n",
    "\n",
    "import numpy as np\n",
    "import pandas as pd\n",
    "import matplotlib.pyplot as plt\n",
    "\n",
    "from libs.plots import plot_heatmap, plot_feature, plot_feature_distribution, plot_feature_to_target"
   ]
  },
  {
   "cell_type": "code",
   "execution_count": null,
   "id": "1a1d970a-0f61-474d-b67c-9ea67ec53488",
   "metadata": {},
   "outputs": [],
   "source": [
    "ROOT_DIR = '.' if os.path.exists('config') else '..' \n",
    "train_csv = os.path.join(ROOT_DIR, 'dataset', 'train.csv')\n",
    "train_df = pd.read_csv(train_csv)\n",
    "train_df = train_df.drop(columns=['ID'])"
   ]
  },
  {
   "cell_type": "code",
   "execution_count": null,
   "id": "282afa90-bf41-475a-99a8-0df7cda39b58",
   "metadata": {},
   "outputs": [],
   "source": [
    "# columns to inspect\n",
    "# columns = train_df.columns[:-1]\n",
    "columns = ['x_0', 'x_1', 'x_2', 'x_3', 'x_4']\n",
    "\n",
    "for col in columns:\n",
    "    plot_feature(train_df, col)\n",
    "    plot_feature_distribution(train_df, col)\n",
    "    plot_feature_to_target(train_df, col, 'y')\n",
    "\n",
    "plot_heatmap(train_df, columns)\n",
    "# plt.show()"
   ]
  },
  {
   "cell_type": "code",
   "execution_count": null,
   "id": "c86f2f4b-37d9-4f7d-ad89-48cdda3bbba6",
   "metadata": {},
   "outputs": [],
   "source": []
  },
  {
   "cell_type": "code",
   "execution_count": null,
   "id": "84b43411-68d2-4b85-a494-ca4075036192",
   "metadata": {},
   "outputs": [],
   "source": []
  }
 ],
 "metadata": {
  "kernelspec": {
   "display_name": "Python 3 (ipykernel)",
   "language": "python",
   "name": "python3"
  },
  "language_info": {
   "codemirror_mode": {
    "name": "ipython",
    "version": 3
   },
   "file_extension": ".py",
   "mimetype": "text/x-python",
   "name": "python",
   "nbconvert_exporter": "python",
   "pygments_lexer": "ipython3",
   "version": "3.12.1"
  }
 },
 "nbformat": 4,
 "nbformat_minor": 5
}
