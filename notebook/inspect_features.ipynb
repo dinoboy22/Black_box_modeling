{
 "cells": [
  {
   "cell_type": "code",
   "execution_count": 1,
   "id": "95f7bcbb-0746-4fe9-96eb-f4de53ff420b",
   "metadata": {},
   "outputs": [
    {
     "ename": "ModuleNotFoundError",
     "evalue": "No module named 'seaborn'",
     "output_type": "error",
     "traceback": [
      "\u001b[0;31m---------------------------------------------------------------------------\u001b[0m",
      "\u001b[0;31mModuleNotFoundError\u001b[0m                       Traceback (most recent call last)",
      "Cell \u001b[0;32mIn[1], line 13\u001b[0m\n\u001b[1;32m     10\u001b[0m \u001b[38;5;28;01mimport\u001b[39;00m \u001b[38;5;21;01mpandas\u001b[39;00m \u001b[38;5;28;01mas\u001b[39;00m \u001b[38;5;21;01mpd\u001b[39;00m\n\u001b[1;32m     11\u001b[0m \u001b[38;5;28;01mimport\u001b[39;00m \u001b[38;5;21;01mmatplotlib\u001b[39;00m\u001b[38;5;21;01m.\u001b[39;00m\u001b[38;5;21;01mpyplot\u001b[39;00m \u001b[38;5;28;01mas\u001b[39;00m \u001b[38;5;21;01mplt\u001b[39;00m\n\u001b[0;32m---> 13\u001b[0m \u001b[38;5;28;01mfrom\u001b[39;00m \u001b[38;5;21;01mlibs\u001b[39;00m\u001b[38;5;21;01m.\u001b[39;00m\u001b[38;5;21;01mplots\u001b[39;00m \u001b[38;5;28;01mimport\u001b[39;00m plot_heatmap, plot_feature, plot_feature_distribution, plot_feature_to_target, plot_feature_contribution\n",
      "File \u001b[0;32m~/work/Projects/Black_box_modeling/notebook/../libs/plots/__init__.py:1\u001b[0m\n\u001b[0;32m----> 1\u001b[0m \u001b[38;5;28;01mfrom\u001b[39;00m \u001b[38;5;21;01m.\u001b[39;00m\u001b[38;5;21;01mplot_helpers\u001b[39;00m \u001b[38;5;28;01mimport\u001b[39;00m (\n\u001b[1;32m      2\u001b[0m         plot_heatmap, \n\u001b[1;32m      3\u001b[0m         plot_feature, \n\u001b[1;32m      4\u001b[0m         plot_feature_distribution, \n\u001b[1;32m      5\u001b[0m         plot_feature_to_target, \n\u001b[1;32m      6\u001b[0m         plot_feature_contribution,\n\u001b[1;32m      7\u001b[0m         \u001b[38;5;66;03m# heatmap, \u001b[39;00m\n\u001b[1;32m      8\u001b[0m         \u001b[38;5;66;03m# feature_graph, \u001b[39;00m\n\u001b[1;32m      9\u001b[0m         \u001b[38;5;66;03m# compare_two_column,\u001b[39;00m\n\u001b[1;32m     10\u001b[0m         \u001b[38;5;66;03m# plot_func,\u001b[39;00m\n\u001b[1;32m     11\u001b[0m )\n",
      "File \u001b[0;32m~/work/Projects/Black_box_modeling/notebook/../libs/plots/plot_helpers.py:4\u001b[0m\n\u001b[1;32m      2\u001b[0m \u001b[38;5;28;01mimport\u001b[39;00m \u001b[38;5;21;01mnumpy\u001b[39;00m \u001b[38;5;28;01mas\u001b[39;00m \u001b[38;5;21;01mnp\u001b[39;00m\n\u001b[1;32m      3\u001b[0m \u001b[38;5;28;01mfrom\u001b[39;00m \u001b[38;5;21;01mmatplotlib\u001b[39;00m \u001b[38;5;28;01mimport\u001b[39;00m pyplot \u001b[38;5;28;01mas\u001b[39;00m plt\n\u001b[0;32m----> 4\u001b[0m \u001b[38;5;28;01mimport\u001b[39;00m \u001b[38;5;21;01mseaborn\u001b[39;00m \u001b[38;5;28;01mas\u001b[39;00m \u001b[38;5;21;01msns\u001b[39;00m\n\u001b[1;32m      6\u001b[0m \u001b[38;5;28;01mdef\u001b[39;00m \u001b[38;5;21mplot_heatmap\u001b[39m(data, columns):\n\u001b[1;32m      7\u001b[0m     correlation_matrix \u001b[38;5;241m=\u001b[39m data[columns]\u001b[38;5;241m.\u001b[39mcorr()\n",
      "\u001b[0;31mModuleNotFoundError\u001b[0m: No module named 'seaborn'"
     ]
    }
   ],
   "source": [
    "#!/usr/bin/env python\n",
    "# coding: utf-8\n",
    "\n",
    "import os\n",
    "import sys\n",
    "sys.path.append('./')\n",
    "sys.path.append('../')\n",
    "\n",
    "import numpy as np\n",
    "import pandas as pd\n",
    "import matplotlib.pyplot as plt\n",
    "\n",
    "from libs.plots import plot_heatmap, plot_feature, plot_feature_distribution, plot_feature_to_target, plot_feature_contribution"
   ]
  },
  {
   "cell_type": "code",
   "execution_count": null,
   "id": "1a1d970a-0f61-474d-b67c-9ea67ec53488",
   "metadata": {},
   "outputs": [],
   "source": [
    "ROOT_DIR = '.' if os.path.exists('config') else '..' \n",
    "train_csv = os.path.join(ROOT_DIR, 'dataset', 'train.csv')\n",
    "train_df = pd.read_csv(train_csv)\n",
    "train_df = train_df.drop(columns=['ID'])"
   ]
  },
  {
   "cell_type": "code",
   "execution_count": 1,
   "id": "282afa90-bf41-475a-99a8-0df7cda39b58",
   "metadata": {},
   "outputs": [
    {
     "ename": "NameError",
     "evalue": "name 'plot_feature' is not defined",
     "output_type": "error",
     "traceback": [
      "\u001b[0;31m---------------------------------------------------------------------------\u001b[0m",
      "\u001b[0;31mNameError\u001b[0m                                 Traceback (most recent call last)",
      "Cell \u001b[0;32mIn[1], line 6\u001b[0m\n\u001b[1;32m      3\u001b[0m columns \u001b[38;5;241m=\u001b[39m [\u001b[38;5;124m'\u001b[39m\u001b[38;5;124mx_0\u001b[39m\u001b[38;5;124m'\u001b[39m, \u001b[38;5;124m'\u001b[39m\u001b[38;5;124mx_1\u001b[39m\u001b[38;5;124m'\u001b[39m, \u001b[38;5;124m'\u001b[39m\u001b[38;5;124mx_2\u001b[39m\u001b[38;5;124m'\u001b[39m, \u001b[38;5;124m'\u001b[39m\u001b[38;5;124mx_3\u001b[39m\u001b[38;5;124m'\u001b[39m, \u001b[38;5;124m'\u001b[39m\u001b[38;5;124mx_4\u001b[39m\u001b[38;5;124m'\u001b[39m]\n\u001b[1;32m      5\u001b[0m \u001b[38;5;28;01mfor\u001b[39;00m col \u001b[38;5;129;01min\u001b[39;00m columns:\n\u001b[0;32m----> 6\u001b[0m     \u001b[43mplot_feature\u001b[49m(train_df, col)\n\u001b[1;32m      7\u001b[0m     plot_feature_distribution(train_df, col)\n\u001b[1;32m      8\u001b[0m     plot_feature_to_target(train_df, col, \u001b[38;5;124m'\u001b[39m\u001b[38;5;124my\u001b[39m\u001b[38;5;124m'\u001b[39m)\n",
      "\u001b[0;31mNameError\u001b[0m: name 'plot_feature' is not defined"
     ]
    }
   ],
   "source": [
    "# columns to inspect\n",
    "# columns = train_df.columns[:-1]\n",
    "columns = ['x_0', 'x_1', 'x_2', 'x_3', 'x_4']\n",
    "\n",
    "for col in columns:\n",
    "    plot_feature(train_df, col)\n",
    "    plot_feature_distribution(train_df, col)\n",
    "    plot_feature_to_target(train_df, col, 'y')\n",
    "    plot_feature_contribution(train_df, col, 'y')\n",
    "\n",
    "plot_heatmap(train_df, columns)\n",
    "# plt.show()"
   ]
  },
  {
   "cell_type": "code",
   "execution_count": null,
   "id": "c86f2f4b-37d9-4f7d-ad89-48cdda3bbba6",
   "metadata": {},
   "outputs": [],
   "source": []
  },
  {
   "cell_type": "code",
   "execution_count": null,
   "id": "84b43411-68d2-4b85-a494-ca4075036192",
   "metadata": {},
   "outputs": [],
   "source": []
  }
 ],
 "metadata": {
  "kernelspec": {
   "display_name": "Python 3 (ipykernel)",
   "language": "python",
   "name": "python3"
  },
  "language_info": {
   "codemirror_mode": {
    "name": "ipython",
    "version": 3
   },
   "file_extension": ".py",
   "mimetype": "text/x-python",
   "name": "python",
   "nbconvert_exporter": "python",
   "pygments_lexer": "ipython3",
   "version": "3.10.10"
  }
 },
 "nbformat": 4,
 "nbformat_minor": 5
}
